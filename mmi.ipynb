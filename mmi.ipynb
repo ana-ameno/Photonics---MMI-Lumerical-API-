{
 "cells": [
  {
   "cell_type": "code",
   "execution_count": 47,
   "metadata": {},
   "outputs": [],
   "source": [
    "import sys, os, importlib.util, pandas\n",
    "import numpy as np\n",
    "import matplotlib.pyplot as plt\n",
    "from scipy.constants import lambda2nu, nu2lambda, c"
   ]
  },
  {
   "cell_type": "code",
   "execution_count": 48,
   "metadata": {},
   "outputs": [],
   "source": [
    "\n",
    "def adguide(nf, nc, ns, lmbd, a, mode):\n",
    "  mmax = 1000\n",
    "  tol = 1e-10\n",
    "  r = 0.3\n",
    "\n",
    "  if (mode=='TM'):\n",
    "    pc = (nf/nc)**2\n",
    "    ps = (nf/ns)**2\n",
    "  else:\n",
    "    pc = 1\n",
    "    ps = 1\n",
    "\n",
    "  delta = (ns**2-nc**2)/(nf**2-ns**2)\n",
    "  k0 = 2*np.pi/lmbd\n",
    "  NA = np.sqrt(nf**2-ns**2)\n",
    "  R = k0*a*NA\n",
    "\n",
    "  M = int(np.ceil((2*R-np.arctan(pc*np.sqrt(delta)))/np.pi))\n",
    "  m = np.arange(0,M)\n",
    "\n",
    "  u = R*np.ones(M)\n",
    "  v = np.zeros(M)\n",
    "  w = R*np.sqrt(delta)*np.ones(M)\n",
    "\n",
    "  Nit = 1\n",
    "\n",
    "  while True:\n",
    "    F = 0.5*(np.pi*m + np.arctan(ps*v/u) + np.arctan(pc*w/u))\n",
    "    u_new = r*F + (1-r)*u\n",
    "    if np.any(np.abs(u_new-u) <= tol):\n",
    "        break\n",
    "    Nit = Nit + 1\n",
    "    u = u_new\n",
    "    v = np.sqrt(R**2-u**2)\n",
    "    w = np.sqrt(delta*R**2+v**2)\n",
    "    if Nit > mmax:\n",
    "        break\n",
    "\n",
    "  kf = u/a\n",
    "  gamma_s = v/a\n",
    "  gamma_c = w/a\n",
    "  be = np.sqrt((nf*k0)**2 - kf**2)\n",
    "  return be,be/k0, kf, gamma_s, gamma_c, M\n",
    "    "
   ]
  },
  {
   "cell_type": "code",
   "execution_count": 49,
   "metadata": {},
   "outputs": [],
   "source": [
    "from IPython.core.display import HTML\n",
    "from IPython.core.pylabtools import figsize\n",
    "from IPython.display import display, Math"
   ]
  },
  {
   "cell_type": "code",
   "execution_count": 50,
   "metadata": {},
   "outputs": [],
   "source": [
    "um=10e-6\n",
    "nm=10e-9"
   ]
  },
  {
   "cell_type": "code",
   "execution_count": 51,
   "metadata": {},
   "outputs": [],
   "source": [
    "lambda_0 = 1550*nm\n",
    "n_c = 1.444 #@ 1550nm\n",
    "n_r = 3.476 #@ 1550nm\n",
    "k_0 = 2*np.pi/lambda_0\n",
    "W_m = 7*um"
   ]
  },
  {
   "cell_type": "code",
   "execution_count": 52,
   "metadata": {},
   "outputs": [
    {
     "data": {
      "text/plain": [
       "7.156040531990452"
      ]
     },
     "execution_count": 52,
     "metadata": {},
     "output_type": "execute_result"
    }
   ],
   "source": [
    "sigma = 0 # TE mode\n",
    "We = W_m + (lambda_0/np.pi)*( (n_c/n_r)**(2*0))*(n_r**2 - n_c**2)**(-0.5)\n",
    "We/um"
   ]
  },
  {
   "cell_type": "code",
   "execution_count": 53,
   "metadata": {},
   "outputs": [
    {
     "name": "stdout",
     "output_type": "stream",
     "text": [
      "neff_app = 3.4743\n",
      "beta = 1408371.0703\n",
      "neff_app = 3.4693\n",
      "beta = 1406319.3532\n",
      "neff_app = 3.4608\n",
      "beta = 1402899.8246\n",
      "neff_app = 3.4490\n",
      "beta = 1398112.4847\n",
      "neff_app = 3.4338\n",
      "beta = 1391957.3333\n",
      "neff_app = 3.4153\n",
      "beta = 1384434.3705\n",
      "neff_app = 3.3933\n",
      "beta = 1375543.5963\n",
      "neff_app = 3.3680\n",
      "beta = 1365285.0107\n",
      "neff_app = 3.3393\n",
      "beta = 1353658.6137\n",
      "neff_app = 3.3073\n",
      "beta = 1340664.4052\n"
     ]
    }
   ],
   "source": [
    "neff_app = np.zeros(10)\n",
    "for i in range(10):\n",
    "    neff_app[i] = n_r - ((i+1)**2*np.pi*lambda_0)/(We**2*4*n_r*k_0)\n",
    "    k_C = ((i+1)*np.pi)/We\n",
    "    beta=neff_app*k_0\n",
    "    print(\"neff_app = %.4f\"%(neff_app[i]))\n",
    "    print(\"beta = %.4f\"%(beta[i]))\n",
    "    \n"
   ]
  },
  {
   "cell_type": "code",
   "execution_count": 54,
   "metadata": {},
   "outputs": [
    {
     "data": {
      "text/plain": [
       "np.float64(153.12016546058257)"
      ]
     },
     "execution_count": 54,
     "metadata": {},
     "output_type": "execute_result"
    }
   ],
   "source": [
    "Lpi_app = np.pi/(beta[0] - beta[1])\n",
    "Lpi_app/um"
   ]
  },
  {
   "cell_type": "code",
   "execution_count": 55,
   "metadata": {},
   "outputs": [
    {
     "data": {
      "text/plain": [
       "np.float64(153.12016546058524)"
      ]
     },
     "execution_count": 55,
     "metadata": {},
     "output_type": "execute_result"
    }
   ],
   "source": [
    "Lpi_app = np.pi/(neff_app[0]-neff_app[1])/k_0\n",
    "Lpi_app/um"
   ]
  },
  {
   "cell_type": "code",
   "execution_count": 56,
   "metadata": {},
   "outputs": [
    {
     "name": "stdout",
     "output_type": "stream",
     "text": [
      "153.12016546057967\n"
     ]
    },
    {
     "data": {
      "text/plain": [
       "229.68024819086952"
      ]
     },
     "execution_count": 56,
     "metadata": {},
     "output_type": "execute_result"
    }
   ],
   "source": [
    "l_pi_app = (4*n_r*We**2)/(3*lambda_0)\n",
    "print(l_pi_app/um)\n",
    "(3/2)*(l_pi_app/um)"
   ]
  },
  {
   "cell_type": "markdown",
   "metadata": {},
   "source": [
    "    Returns:\n",
    "        dict: Dictionary containing the computed parameters:\n",
    "            - kf: Transverse wavenumbers inside slab in units of k₀\n",
    "            - as_: Decay wavenumber in substrate in units of k₀\n",
    "            - ac: Decay wavenumber in cladding in units of k₀\n",
    "            - be: Beta (propagation wavenumbers in units of k₀)\n",
    "            - Rm: Cutoff radius for m-th mode\n",
    "            - fm: Cutoff frequencies in units of f = c₀/λ₀\n",
    "            - thm: Angles of total internal reflection\n",
    "            - Nit: Number of iterations it took to converge\n",
    "\n",
    "        'be': be,\n",
    "        'ne' :ne,\n",
    "        'kf': kf,\n",
    "        'as_': as_,\n",
    "        'ac': ac,\n",
    "        'Rm': Rm,\n",
    "        \n",
    "    }\n",
    "    \"\"\""
   ]
  },
  {
   "cell_type": "code",
   "execution_count": null,
   "metadata": {},
   "outputs": [],
   "source": []
  },
  {
   "cell_type": "code",
   "execution_count": 57,
   "metadata": {},
   "outputs": [
    {
     "name": "stdout",
     "output_type": "stream",
     "text": [
      "tamanho = 29\n",
      "[3.47431248 3.46924515 3.46078371 3.44890405 3.43357197 3.41474262\n",
      " 3.39235988 3.36635548 3.33664787 3.3031409  3.2657221  3.22426059\n",
      " 3.17860448 3.12857766 3.07397572 3.01456088 2.95005551 2.88013377\n",
      " 2.80441071 2.72242787 2.63363394 2.5373582  2.43277357 2.31884399\n",
      " 2.1942487  2.05727348 1.90566742 1.73655705 1.54760274]\n"
     ]
    }
   ],
   "source": [
    "betaTE, neffTE, kFTE, alsTE, alcTE, MTE = adguide(n_r, n_c, n_c, lambda_0, W_m/2,'TE') \n",
    "print('tamanho =',len(betaTE))\n",
    "print(neffTE)"
   ]
  },
  {
   "cell_type": "code",
   "execution_count": 58,
   "metadata": {},
   "outputs": [
    {
     "data": {
      "text/html": [
       "<div>\n",
       "<style scoped>\n",
       "    .dataframe tbody tr th:only-of-type {\n",
       "        vertical-align: middle;\n",
       "    }\n",
       "\n",
       "    .dataframe tbody tr th {\n",
       "        vertical-align: top;\n",
       "    }\n",
       "\n",
       "    .dataframe thead th {\n",
       "        text-align: right;\n",
       "    }\n",
       "</style>\n",
       "<table border=\"1\" class=\"dataframe\">\n",
       "  <thead>\n",
       "    <tr style=\"text-align: right;\">\n",
       "      <th></th>\n",
       "      <th>beta</th>\n",
       "      <th>neff</th>\n",
       "      <th>kF</th>\n",
       "      <th>als</th>\n",
       "      <th>alc</th>\n",
       "    </tr>\n",
       "    <tr>\n",
       "      <th>TE</th>\n",
       "      <th></th>\n",
       "      <th></th>\n",
       "      <th></th>\n",
       "      <th></th>\n",
       "      <th></th>\n",
       "    </tr>\n",
       "  </thead>\n",
       "  <tbody>\n",
       "    <tr>\n",
       "      <th>0</th>\n",
       "      <td>1.408371e+06</td>\n",
       "      <td>3.474312</td>\n",
       "      <td>4.390109e+04</td>\n",
       "      <td>1.280966e+06</td>\n",
       "      <td>1.280966e+06</td>\n",
       "    </tr>\n",
       "    <tr>\n",
       "      <th>1</th>\n",
       "      <td>1.406317e+06</td>\n",
       "      <td>3.469245</td>\n",
       "      <td>8.780104e+04</td>\n",
       "      <td>1.278707e+06</td>\n",
       "      <td>1.278707e+06</td>\n",
       "    </tr>\n",
       "    <tr>\n",
       "      <th>2</th>\n",
       "      <td>1.402887e+06</td>\n",
       "      <td>3.460784</td>\n",
       "      <td>1.316987e+05</td>\n",
       "      <td>1.274934e+06</td>\n",
       "      <td>1.274934e+06</td>\n",
       "    </tr>\n",
       "    <tr>\n",
       "      <th>3</th>\n",
       "      <td>1.398071e+06</td>\n",
       "      <td>3.448904</td>\n",
       "      <td>1.755930e+05</td>\n",
       "      <td>1.269633e+06</td>\n",
       "      <td>1.269633e+06</td>\n",
       "    </tr>\n",
       "    <tr>\n",
       "      <th>4</th>\n",
       "      <td>1.391856e+06</td>\n",
       "      <td>3.433572</td>\n",
       "      <td>2.194826e+05</td>\n",
       "      <td>1.262786e+06</td>\n",
       "      <td>1.262786e+06</td>\n",
       "    </tr>\n",
       "    <tr>\n",
       "      <th>5</th>\n",
       "      <td>1.384223e+06</td>\n",
       "      <td>3.414743</td>\n",
       "      <td>2.633664e+05</td>\n",
       "      <td>1.254368e+06</td>\n",
       "      <td>1.254368e+06</td>\n",
       "    </tr>\n",
       "    <tr>\n",
       "      <th>6</th>\n",
       "      <td>1.375150e+06</td>\n",
       "      <td>3.392360</td>\n",
       "      <td>3.072430e+05</td>\n",
       "      <td>1.244349e+06</td>\n",
       "      <td>1.244349e+06</td>\n",
       "    </tr>\n",
       "    <tr>\n",
       "      <th>7</th>\n",
       "      <td>1.364609e+06</td>\n",
       "      <td>3.366355</td>\n",
       "      <td>3.511110e+05</td>\n",
       "      <td>1.232689e+06</td>\n",
       "      <td>1.232689e+06</td>\n",
       "    </tr>\n",
       "    <tr>\n",
       "      <th>8</th>\n",
       "      <td>1.352566e+06</td>\n",
       "      <td>3.336648</td>\n",
       "      <td>3.949689e+05</td>\n",
       "      <td>1.219345e+06</td>\n",
       "      <td>1.219345e+06</td>\n",
       "    </tr>\n",
       "    <tr>\n",
       "      <th>9</th>\n",
       "      <td>1.338984e+06</td>\n",
       "      <td>3.303141</td>\n",
       "      <td>4.388152e+05</td>\n",
       "      <td>1.204260e+06</td>\n",
       "      <td>1.204260e+06</td>\n",
       "    </tr>\n",
       "    <tr>\n",
       "      <th>10</th>\n",
       "      <td>1.323815e+06</td>\n",
       "      <td>3.265722</td>\n",
       "      <td>4.826479e+05</td>\n",
       "      <td>1.187372e+06</td>\n",
       "      <td>1.187372e+06</td>\n",
       "    </tr>\n",
       "    <tr>\n",
       "      <th>11</th>\n",
       "      <td>1.307008e+06</td>\n",
       "      <td>3.224261</td>\n",
       "      <td>5.264651e+05</td>\n",
       "      <td>1.168604e+06</td>\n",
       "      <td>1.168604e+06</td>\n",
       "    </tr>\n",
       "    <tr>\n",
       "      <th>12</th>\n",
       "      <td>1.288501e+06</td>\n",
       "      <td>3.178604</td>\n",
       "      <td>5.702647e+05</td>\n",
       "      <td>1.147868e+06</td>\n",
       "      <td>1.147868e+06</td>\n",
       "    </tr>\n",
       "    <tr>\n",
       "      <th>13</th>\n",
       "      <td>1.268221e+06</td>\n",
       "      <td>3.128578</td>\n",
       "      <td>6.140441e+05</td>\n",
       "      <td>1.125056e+06</td>\n",
       "      <td>1.125056e+06</td>\n",
       "    </tr>\n",
       "    <tr>\n",
       "      <th>14</th>\n",
       "      <td>1.246088e+06</td>\n",
       "      <td>3.073976</td>\n",
       "      <td>6.578004e+05</td>\n",
       "      <td>1.100046e+06</td>\n",
       "      <td>1.100046e+06</td>\n",
       "    </tr>\n",
       "    <tr>\n",
       "      <th>15</th>\n",
       "      <td>1.222003e+06</td>\n",
       "      <td>3.014561</td>\n",
       "      <td>7.015304e+05</td>\n",
       "      <td>1.072687e+06</td>\n",
       "      <td>1.072687e+06</td>\n",
       "    </tr>\n",
       "    <tr>\n",
       "      <th>16</th>\n",
       "      <td>1.195855e+06</td>\n",
       "      <td>2.950056</td>\n",
       "      <td>7.452301e+05</td>\n",
       "      <td>1.042801e+06</td>\n",
       "      <td>1.042801e+06</td>\n",
       "    </tr>\n",
       "    <tr>\n",
       "      <th>17</th>\n",
       "      <td>1.167511e+06</td>\n",
       "      <td>2.880134</td>\n",
       "      <td>7.888948e+05</td>\n",
       "      <td>1.010172e+06</td>\n",
       "      <td>1.010172e+06</td>\n",
       "    </tr>\n",
       "    <tr>\n",
       "      <th>18</th>\n",
       "      <td>1.136815e+06</td>\n",
       "      <td>2.804411</td>\n",
       "      <td>8.325188e+05</td>\n",
       "      <td>9.745328e+05</td>\n",
       "      <td>9.745328e+05</td>\n",
       "    </tr>\n",
       "    <tr>\n",
       "      <th>19</th>\n",
       "      <td>1.103582e+06</td>\n",
       "      <td>2.722428</td>\n",
       "      <td>8.760953e+05</td>\n",
       "      <td>9.355526e+05</td>\n",
       "      <td>9.355526e+05</td>\n",
       "    </tr>\n",
       "    <tr>\n",
       "      <th>20</th>\n",
       "      <td>1.067588e+06</td>\n",
       "      <td>2.633634</td>\n",
       "      <td>9.196153e+05</td>\n",
       "      <td>8.928098e+05</td>\n",
       "      <td>8.928098e+05</td>\n",
       "    </tr>\n",
       "    <tr>\n",
       "      <th>21</th>\n",
       "      <td>1.028561e+06</td>\n",
       "      <td>2.537358</td>\n",
       "      <td>9.630673e+05</td>\n",
       "      <td>8.457559e+05</td>\n",
       "      <td>8.457559e+05</td>\n",
       "    </tr>\n",
       "    <tr>\n",
       "      <th>22</th>\n",
       "      <td>9.861656e+05</td>\n",
       "      <td>2.432774</td>\n",
       "      <td>1.006436e+06</td>\n",
       "      <td>7.936551e+05</td>\n",
       "      <td>7.936551e+05</td>\n",
       "    </tr>\n",
       "    <tr>\n",
       "      <th>23</th>\n",
       "      <td>9.399824e+05</td>\n",
       "      <td>2.318844</td>\n",
       "      <td>1.049700e+06</td>\n",
       "      <td>7.354812e+05</td>\n",
       "      <td>7.354812e+05</td>\n",
       "    </tr>\n",
       "    <tr>\n",
       "      <th>24</th>\n",
       "      <td>8.894756e+05</td>\n",
       "      <td>2.194249</td>\n",
       "      <td>1.092826e+06</td>\n",
       "      <td>6.697257e+05</td>\n",
       "      <td>6.697257e+05</td>\n",
       "    </tr>\n",
       "    <tr>\n",
       "      <th>25</th>\n",
       "      <td>8.339504e+05</td>\n",
       "      <td>2.057273</td>\n",
       "      <td>1.135765e+06</td>\n",
       "      <td>5.940025e+05</td>\n",
       "      <td>5.940025e+05</td>\n",
       "    </tr>\n",
       "    <tr>\n",
       "      <th>26</th>\n",
       "      <td>7.724943e+05</td>\n",
       "      <td>1.905667</td>\n",
       "      <td>1.178426e+06</td>\n",
       "      <td>5.040964e+05</td>\n",
       "      <td>5.040964e+05</td>\n",
       "    </tr>\n",
       "    <tr>\n",
       "      <th>27</th>\n",
       "      <td>7.039426e+05</td>\n",
       "      <td>1.736557</td>\n",
       "      <td>1.220615e+06</td>\n",
       "      <td>3.910255e+05</td>\n",
       "      <td>3.910255e+05</td>\n",
       "    </tr>\n",
       "    <tr>\n",
       "      <th>28</th>\n",
       "      <td>6.273468e+05</td>\n",
       "      <td>1.547603</td>\n",
       "      <td>1.261694e+06</td>\n",
       "      <td>2.256762e+05</td>\n",
       "      <td>2.256762e+05</td>\n",
       "    </tr>\n",
       "  </tbody>\n",
       "</table>\n",
       "</div>"
      ],
      "text/plain": [
       "            beta      neff            kF           als           alc\n",
       "TE                                                                  \n",
       "0   1.408371e+06  3.474312  4.390109e+04  1.280966e+06  1.280966e+06\n",
       "1   1.406317e+06  3.469245  8.780104e+04  1.278707e+06  1.278707e+06\n",
       "2   1.402887e+06  3.460784  1.316987e+05  1.274934e+06  1.274934e+06\n",
       "3   1.398071e+06  3.448904  1.755930e+05  1.269633e+06  1.269633e+06\n",
       "4   1.391856e+06  3.433572  2.194826e+05  1.262786e+06  1.262786e+06\n",
       "5   1.384223e+06  3.414743  2.633664e+05  1.254368e+06  1.254368e+06\n",
       "6   1.375150e+06  3.392360  3.072430e+05  1.244349e+06  1.244349e+06\n",
       "7   1.364609e+06  3.366355  3.511110e+05  1.232689e+06  1.232689e+06\n",
       "8   1.352566e+06  3.336648  3.949689e+05  1.219345e+06  1.219345e+06\n",
       "9   1.338984e+06  3.303141  4.388152e+05  1.204260e+06  1.204260e+06\n",
       "10  1.323815e+06  3.265722  4.826479e+05  1.187372e+06  1.187372e+06\n",
       "11  1.307008e+06  3.224261  5.264651e+05  1.168604e+06  1.168604e+06\n",
       "12  1.288501e+06  3.178604  5.702647e+05  1.147868e+06  1.147868e+06\n",
       "13  1.268221e+06  3.128578  6.140441e+05  1.125056e+06  1.125056e+06\n",
       "14  1.246088e+06  3.073976  6.578004e+05  1.100046e+06  1.100046e+06\n",
       "15  1.222003e+06  3.014561  7.015304e+05  1.072687e+06  1.072687e+06\n",
       "16  1.195855e+06  2.950056  7.452301e+05  1.042801e+06  1.042801e+06\n",
       "17  1.167511e+06  2.880134  7.888948e+05  1.010172e+06  1.010172e+06\n",
       "18  1.136815e+06  2.804411  8.325188e+05  9.745328e+05  9.745328e+05\n",
       "19  1.103582e+06  2.722428  8.760953e+05  9.355526e+05  9.355526e+05\n",
       "20  1.067588e+06  2.633634  9.196153e+05  8.928098e+05  8.928098e+05\n",
       "21  1.028561e+06  2.537358  9.630673e+05  8.457559e+05  8.457559e+05\n",
       "22  9.861656e+05  2.432774  1.006436e+06  7.936551e+05  7.936551e+05\n",
       "23  9.399824e+05  2.318844  1.049700e+06  7.354812e+05  7.354812e+05\n",
       "24  8.894756e+05  2.194249  1.092826e+06  6.697257e+05  6.697257e+05\n",
       "25  8.339504e+05  2.057273  1.135765e+06  5.940025e+05  5.940025e+05\n",
       "26  7.724943e+05  1.905667  1.178426e+06  5.040964e+05  5.040964e+05\n",
       "27  7.039426e+05  1.736557  1.220615e+06  3.910255e+05  3.910255e+05\n",
       "28  6.273468e+05  1.547603  1.261694e+06  2.256762e+05  2.256762e+05"
      ]
     },
     "execution_count": 58,
     "metadata": {},
     "output_type": "execute_result"
    }
   ],
   "source": [
    "df = pandas.DataFrame({\"beta\": betaTE,\n",
    "                       \"neff\": neffTE,\n",
    "                       \"kF\": kFTE,\n",
    "                       \"als\": alsTE,\n",
    "                       \"alc\": alcTE,})\n",
    "df.index.names = ['TE']\n",
    "df"
   ]
  },
  {
   "cell_type": "code",
   "execution_count": 59,
   "metadata": {},
   "outputs": [
    {
     "data": {
      "text/plain": [
       "np.float64(152.9407445649724)"
      ]
     },
     "execution_count": 59,
     "metadata": {},
     "output_type": "execute_result"
    }
   ],
   "source": [
    "L_pi_app = np.pi/(betaTE[0] - betaTE[1])\n",
    "L_pi_app/um"
   ]
  },
  {
   "cell_type": "code",
   "execution_count": 60,
   "metadata": {},
   "outputs": [
    {
     "data": {
      "text/plain": [
       "np.float64(57.35277921186466)"
      ]
     },
     "execution_count": 60,
     "metadata": {},
     "output_type": "execute_result"
    }
   ],
   "source": [
    "L_pi_2x2 = ((3/(4*2))*L_pi_app)\n",
    "L_pi_2x2/um"
   ]
  },
  {
   "cell_type": "code",
   "execution_count": 61,
   "metadata": {},
   "outputs": [
    {
     "data": {
      "text/plain": [
       "np.float64(57.35277921186466)"
      ]
     },
     "execution_count": 61,
     "metadata": {},
     "output_type": "execute_result"
    }
   ],
   "source": [
    "L_pi_2x1 = 3/8*L_pi_app\n",
    "L_pi_2x1/um"
   ]
  }
 ],
 "metadata": {
  "kernelspec": {
   "display_name": "Python 3",
   "language": "python",
   "name": "python3"
  },
  "language_info": {
   "codemirror_mode": {
    "name": "ipython",
    "version": 3
   },
   "file_extension": ".py",
   "mimetype": "text/x-python",
   "name": "python",
   "nbconvert_exporter": "python",
   "pygments_lexer": "ipython3",
   "version": "3.12.6"
  }
 },
 "nbformat": 4,
 "nbformat_minor": 2
}
